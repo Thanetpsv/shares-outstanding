{
 "cells": [
  {
   "cell_type": "markdown",
   "metadata": {},
   "source": [
    "The following code will the total amount of shares given the company's ticket."
   ]
  },
  {
   "cell_type": "code",
   "execution_count": 56,
   "metadata": {},
   "outputs": [],
   "source": [
    "import requests\n",
    "from bs4 import BeautifulSoup\n",
    "from selenium import webdriver\n",
    "import pandas as pd\n",
    "import matplotlib.pyplot as plt"
   ]
  },
  {
   "cell_type": "code",
   "execution_count": 47,
   "metadata": {},
   "outputs": [
    {
     "name": "stdout",
     "output_type": "stream",
     "text": [
      "input ticket: aapl\n"
     ]
    }
   ],
   "source": [
    "base_url = 'https://financials.morningstar.com/ratios/r.html?t='\n",
    "ticket = input(\"input ticket: \").upper()"
   ]
  },
  {
   "cell_type": "code",
   "execution_count": 48,
   "metadata": {},
   "outputs": [
    {
     "data": {
      "text/plain": [
       "'https://financials.morningstar.com/ratios/r.html?t=AAPL'"
      ]
     },
     "execution_count": 48,
     "metadata": {},
     "output_type": "execute_result"
    }
   ],
   "source": [
    "def make_url(base, comp):\n",
    "    url = base + comp\n",
    "    return url\n",
    "\n",
    "finished_url = make_url(base_url,ticket)\n",
    "finished_url"
   ]
  },
  {
   "cell_type": "code",
   "execution_count": 49,
   "metadata": {},
   "outputs": [],
   "source": [
    "PATH = \"C:\\Program Files (x86)\\chromedriver.exe\"\n",
    "driver = webdriver.Chrome(PATH)\n",
    "driver.get(finished_url)\n",
    "html_doc = driver.page_source"
   ]
  },
  {
   "cell_type": "code",
   "execution_count": 50,
   "metadata": {},
   "outputs": [],
   "source": [
    "driver.quit()\n",
    "soup = BeautifulSoup(html_doc,'lxml')\n",
    "#print(soup.prettify())"
   ]
  },
  {
   "cell_type": "code",
   "execution_count": 51,
   "metadata": {},
   "outputs": [],
   "source": [
    "Y0 = soup.tbody.find('td', headers= 'Y0 i7').text\n",
    "Y1 = soup.tbody.find('td', headers= 'Y1 i7').text\n",
    "Y2 = soup.tbody.find('td', headers= 'Y2 i7').text\n",
    "Y3 = soup.tbody.find('td', headers= 'Y3 i7').text\n",
    "Y4 = soup.tbody.find('td', headers= 'Y4 i7').text\n",
    "Y5 = soup.tbody.find('td', headers= 'Y5 i7').text\n",
    "Y6 = soup.tbody.find('td', headers= 'Y6 i7').text\n",
    "Y7 = soup.tbody.find('td', headers= 'Y7 i7').text\n",
    "Y8 = soup.tbody.find('td', headers= 'Y8 i7').text\n",
    "Y9 = soup.tbody.find('td', headers= 'Y9 i7').text\n",
    "Y10 = soup.tbody.find('td', headers= 'Y10 i7').text"
   ]
  },
  {
   "cell_type": "code",
   "execution_count": 52,
   "metadata": {},
   "outputs": [],
   "source": [
    "years = soup.find('tr')\n",
    "y0 = years.find('th', id='Y0').text\n",
    "y1 = years.find('th', id='Y1').text\n",
    "y2 = years.find('th', id='Y2').text\n",
    "y3 = years.find('th', id='Y3').text\n",
    "y4 = years.find('th', id='Y4').text\n",
    "y5 = years.find('th', id='Y5').text\n",
    "y6 = years.find('th', id='Y6').text\n",
    "y7 = years.find('th', id='Y7').text\n",
    "y8 = years.find('th', id='Y8').text\n",
    "y9 = years.find('th', id='Y9').text\n",
    "y10 = years.find('th', id='Y10').text"
   ]
  },
  {
   "cell_type": "code",
   "execution_count": 53,
   "metadata": {},
   "outputs": [],
   "source": [
    "data = {'Year': [y0,y1,y2,y3,y4,y5,y6,y7,y8,y9,y10], \n",
    "        'Shares in m': [Y0 ,Y1, Y2, Y3, Y4, Y5, Y6, Y7, Y8, Y9, Y10]}"
   ]
  },
  {
   "cell_type": "code",
   "execution_count": 54,
   "metadata": {},
   "outputs": [
    {
     "data": {
      "text/html": [
       "<style  type=\"text/css\" >\n",
       "</style><table id=\"T_19be2b85_966d_11ea_8c1c_c0389605b53c\" ><caption>Ticket: AAPL</caption><thead>    <tr>        <th class=\"blank level0\" ></th>        <th class=\"col_heading level0 col0\" >Year</th>        <th class=\"col_heading level0 col1\" >Shares in m</th>    </tr></thead><tbody>\n",
       "                <tr>\n",
       "                        <th id=\"T_19be2b85_966d_11ea_8c1c_c0389605b53clevel0_row0\" class=\"row_heading level0 row0\" >0</th>\n",
       "                        <td id=\"T_19be2b85_966d_11ea_8c1c_c0389605b53crow0_col0\" class=\"data row0 col0\" >2010-09</td>\n",
       "                        <td id=\"T_19be2b85_966d_11ea_8c1c_c0389605b53crow0_col1\" class=\"data row0 col1\" >6,473</td>\n",
       "            </tr>\n",
       "            <tr>\n",
       "                        <th id=\"T_19be2b85_966d_11ea_8c1c_c0389605b53clevel0_row1\" class=\"row_heading level0 row1\" >1</th>\n",
       "                        <td id=\"T_19be2b85_966d_11ea_8c1c_c0389605b53crow1_col0\" class=\"data row1 col0\" >2011-09</td>\n",
       "                        <td id=\"T_19be2b85_966d_11ea_8c1c_c0389605b53crow1_col1\" class=\"data row1 col1\" >6,557</td>\n",
       "            </tr>\n",
       "            <tr>\n",
       "                        <th id=\"T_19be2b85_966d_11ea_8c1c_c0389605b53clevel0_row2\" class=\"row_heading level0 row2\" >2</th>\n",
       "                        <td id=\"T_19be2b85_966d_11ea_8c1c_c0389605b53crow2_col0\" class=\"data row2 col0\" >2012-09</td>\n",
       "                        <td id=\"T_19be2b85_966d_11ea_8c1c_c0389605b53crow2_col1\" class=\"data row2 col1\" >6,617</td>\n",
       "            </tr>\n",
       "            <tr>\n",
       "                        <th id=\"T_19be2b85_966d_11ea_8c1c_c0389605b53clevel0_row3\" class=\"row_heading level0 row3\" >3</th>\n",
       "                        <td id=\"T_19be2b85_966d_11ea_8c1c_c0389605b53crow3_col0\" class=\"data row3 col0\" >2013-09</td>\n",
       "                        <td id=\"T_19be2b85_966d_11ea_8c1c_c0389605b53crow3_col1\" class=\"data row3 col1\" >6,522</td>\n",
       "            </tr>\n",
       "            <tr>\n",
       "                        <th id=\"T_19be2b85_966d_11ea_8c1c_c0389605b53clevel0_row4\" class=\"row_heading level0 row4\" >4</th>\n",
       "                        <td id=\"T_19be2b85_966d_11ea_8c1c_c0389605b53crow4_col0\" class=\"data row4 col0\" >2014-09</td>\n",
       "                        <td id=\"T_19be2b85_966d_11ea_8c1c_c0389605b53crow4_col1\" class=\"data row4 col1\" >6,123</td>\n",
       "            </tr>\n",
       "            <tr>\n",
       "                        <th id=\"T_19be2b85_966d_11ea_8c1c_c0389605b53clevel0_row5\" class=\"row_heading level0 row5\" >5</th>\n",
       "                        <td id=\"T_19be2b85_966d_11ea_8c1c_c0389605b53crow5_col0\" class=\"data row5 col0\" >2015-09</td>\n",
       "                        <td id=\"T_19be2b85_966d_11ea_8c1c_c0389605b53crow5_col1\" class=\"data row5 col1\" >5,793</td>\n",
       "            </tr>\n",
       "            <tr>\n",
       "                        <th id=\"T_19be2b85_966d_11ea_8c1c_c0389605b53clevel0_row6\" class=\"row_heading level0 row6\" >6</th>\n",
       "                        <td id=\"T_19be2b85_966d_11ea_8c1c_c0389605b53crow6_col0\" class=\"data row6 col0\" >2016-09</td>\n",
       "                        <td id=\"T_19be2b85_966d_11ea_8c1c_c0389605b53crow6_col1\" class=\"data row6 col1\" >5,500</td>\n",
       "            </tr>\n",
       "            <tr>\n",
       "                        <th id=\"T_19be2b85_966d_11ea_8c1c_c0389605b53clevel0_row7\" class=\"row_heading level0 row7\" >7</th>\n",
       "                        <td id=\"T_19be2b85_966d_11ea_8c1c_c0389605b53crow7_col0\" class=\"data row7 col0\" >2017-09</td>\n",
       "                        <td id=\"T_19be2b85_966d_11ea_8c1c_c0389605b53crow7_col1\" class=\"data row7 col1\" >5,252</td>\n",
       "            </tr>\n",
       "            <tr>\n",
       "                        <th id=\"T_19be2b85_966d_11ea_8c1c_c0389605b53clevel0_row8\" class=\"row_heading level0 row8\" >8</th>\n",
       "                        <td id=\"T_19be2b85_966d_11ea_8c1c_c0389605b53crow8_col0\" class=\"data row8 col0\" >2018-09</td>\n",
       "                        <td id=\"T_19be2b85_966d_11ea_8c1c_c0389605b53crow8_col1\" class=\"data row8 col1\" >5,000</td>\n",
       "            </tr>\n",
       "            <tr>\n",
       "                        <th id=\"T_19be2b85_966d_11ea_8c1c_c0389605b53clevel0_row9\" class=\"row_heading level0 row9\" >9</th>\n",
       "                        <td id=\"T_19be2b85_966d_11ea_8c1c_c0389605b53crow9_col0\" class=\"data row9 col0\" >2019-09</td>\n",
       "                        <td id=\"T_19be2b85_966d_11ea_8c1c_c0389605b53crow9_col1\" class=\"data row9 col1\" >4,649</td>\n",
       "            </tr>\n",
       "            <tr>\n",
       "                        <th id=\"T_19be2b85_966d_11ea_8c1c_c0389605b53clevel0_row10\" class=\"row_heading level0 row10\" >10</th>\n",
       "                        <td id=\"T_19be2b85_966d_11ea_8c1c_c0389605b53crow10_col0\" class=\"data row10 col0\" >TTM</td>\n",
       "                        <td id=\"T_19be2b85_966d_11ea_8c1c_c0389605b53crow10_col1\" class=\"data row10 col1\" >4,495</td>\n",
       "            </tr>\n",
       "    </tbody></table>"
      ],
      "text/plain": [
       "<pandas.io.formats.style.Styler at 0xcbeeca0>"
      ]
     },
     "execution_count": 54,
     "metadata": {},
     "output_type": "execute_result"
    }
   ],
   "source": [
    "df = pd.DataFrame (data, columns = ['Year','Shares in m'])\n",
    "df.style.set_caption(\"Ticket: \" + ticket)"
   ]
  },
  {
   "cell_type": "code",
   "execution_count": 61,
   "metadata": {},
   "outputs": [
    {
     "data": {
      "image/png": "[encoded data removed]",
      "text/plain": [
       "<Figure size 432x288 with 1 Axes>"
      ]
     },
     "metadata": {
      "needs_background": "light"
     },
     "output_type": "display_data"
    }
   ],
   "source": [
    "df.plot(x ='Shares in m', y='Year', kind = 'scatter')\n",
    "plt.show()"
   ]
  },
  {
   "cell_type": "code",
   "execution_count": null,
   "metadata": {},
   "outputs": [],
   "source": []
  }
 ],
 "metadata": {
  "kernelspec": {
   "display_name": "Python 3",
   "language": "python",
   "name": "python3"
  },
  "language_info": {
   "codemirror_mode": {
    "name": "ipython",
    "version": 3
   },
   "file_extension": ".py",
   "mimetype": "text/x-python",
   "name": "python",
   "nbconvert_exporter": "python",
   "pygments_lexer": "ipython3",
   "version": "3.8.2"
  }
 },
 "nbformat": 4,
 "nbformat_minor": 4
}
